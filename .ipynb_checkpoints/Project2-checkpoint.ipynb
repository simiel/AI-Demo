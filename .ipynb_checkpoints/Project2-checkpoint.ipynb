{
 "cells": [
  {
   "cell_type": "markdown",
   "metadata": {},
   "source": [
    "# Brand Analysis"
   ]
  },
  {
   "cell_type": "code",
   "execution_count": 69,
   "metadata": {},
   "outputs": [
    {
     "name": "stdout",
     "output_type": "stream",
     "text": [
      "                     event_time event_type  product_id          category_id  \\\n",
      "408590  2019-10-01 09:04:14 UTC       view    18700029  2053013555380224399   \n",
      "430303  2019-10-01 09:21:38 UTC       view     1004249  2053013555631882655   \n",
      "472599  2019-10-01 09:58:03 UTC       view     1004659  2053013555631882655   \n",
      "260416  2019-10-01 07:01:40 UTC       view     1304106  2053013558920217191   \n",
      "394575  2019-10-01 08:53:03 UTC       view     5100503  2053013553375346967   \n",
      "\n",
      "                 category_code    brand   price    user_id  \\\n",
      "408590                     NaN      NaN  455.61  555526037   \n",
      "430303  electronics.smartphone    apple  738.39  551769870   \n",
      "472599  electronics.smartphone  samsung  787.09  555575510   \n",
      "260416      computers.notebook   lenovo  978.07  536093085   \n",
      "394575                     NaN   xiaomi   23.15  540569304   \n",
      "\n",
      "                                user_session  \n",
      "408590  ea237f92-38c8-412a-91c6-b2ba9c4a0723  \n",
      "430303  b8cc3d0d-62af-4ac7-b330-bcfce095e2ab  \n",
      "472599  7c36ad50-6e41-4413-a44f-a12e20725101  \n",
      "260416  9b63069e-4042-4b64-84be-744918945b97  \n",
      "394575  4d99134e-7d00-4aba-afbb-fae5986dee6e  \n"
     ]
    }
   ],
   "source": [
    "import pandas as pd\n",
    "import numpy as np\n",
    "\n",
    "df  = pd.read_csv('2019-Oct1.csv',nrows=500000).sample(100000)\n",
    "print(df.head())"
   ]
  },
  {
   "cell_type": "markdown",
   "metadata": {},
   "source": [
    "event_time: The exact time when the activity occurred by a user\n",
    "\n",
    "event_type: The type of activity occurred; there are three types in our case, i.e, view, cart, and purchase\n",
    "\n",
    "product_id: The unique ID of a particular product\n",
    "\n",
    "category_id: The unique ID of the category to which the product belongs to\n",
    "\n",
    "category_code: The unique category code to which the product belongs to\n",
    "\n",
    "brand: The brand name of the selected product\n",
    "\n",
    "price: The price of the selected product\n",
    "\n",
    "user_id: The unique ID of the user\n",
    "\n",
    "user_session: The unique ID generated every time a user visits the site. It is different for every visit of a particular user"
   ]
  },
  {
   "cell_type": "code",
   "execution_count": 70,
   "metadata": {},
   "outputs": [
    {
     "name": "stdout",
     "output_type": "stream",
     "text": [
      "                     event_time event_type  product_id          category_id  \\\n",
      "129453  2019-10-01 05:00:42 UTC   purchase     8800847  2053013555573162395   \n",
      "401475  2019-10-01 08:58:28 UTC   purchase     1306796  2053013558920217191   \n",
      "243949  2019-10-01 06:46:48 UTC   purchase    12709953  2053013553559896355   \n",
      "333386  2019-10-01 08:03:02 UTC   purchase    15700045  2053013559733912211   \n",
      "152965  2019-10-01 05:23:46 UTC   purchase     3600263  2053013563810775923   \n",
      "\n",
      "                    category_code     brand   price    user_id  \\\n",
      "129453      electronics.telephone     nokia   33.46  544334010   \n",
      "401475         computers.notebook      acer  314.53  533158264   \n",
      "243949                        NaN  triangle   46.33  518380527   \n",
      "333386                        NaN       brw  254.06  513852562   \n",
      "152965  appliances.kitchen.washer     midea  113.23  546515920   \n",
      "\n",
      "                                user_session  \n",
      "129453  9b4681cd-beb7-4e45-9075-2f7fb91400b2  \n",
      "401475  dc526ed4-4705-47b7-a28a-d7e8160c2cb4  \n",
      "243949  192f6a9d-6176-487e-bab9-e71eb288ced9  \n",
      "333386  6b49515f-1927-4c2e-aaac-075b1a43af5e  \n",
      "152965  dac490c3-0f10-47a1-865b-f5004477bc52  \n",
      "                     event_time event_type  product_id          category_id  \\\n",
      "40306   2019-10-01 03:20:54 UTC   purchase     2700406  2053013563911439225   \n",
      "253350  2019-10-01 06:55:14 UTC   purchase    34700076  2061717937420501730   \n",
      "468449  2019-10-01 09:54:20 UTC   purchase     9200216  2053013552913973497   \n",
      "39983   2019-10-01 03:20:30 UTC   purchase    17200651  2053013559792632471   \n",
      "315122  2019-10-01 07:48:11 UTC   purchase     2800051  2053013563835941749   \n",
      "\n",
      "                           category_code brand   price    user_id  \\\n",
      "40306   appliances.kitchen.refrigerators   NaN  262.50  544097097   \n",
      "253350                               NaN   NaN   13.51  555507866   \n",
      "468449    computers.peripherals.keyboard   NaN   51.46  542036785   \n",
      "39983         furniture.living_room.sofa   NaN  437.33  516238154   \n",
      "315122  appliances.kitchen.refrigerators   NaN  182.69  518326501   \n",
      "\n",
      "                                user_session  \n",
      "40306   f9085968-9002-4caa-a80e-e796816beaaa  \n",
      "253350  4c89e5b3-a1f1-48ae-8d39-33930859caac  \n",
      "468449  c1fe72aa-9e48-46b9-9d52-0a76726763d5  \n",
      "39983   a7fc10e4-35e5-48ae-8982-abaf457776a8  \n",
      "315122  ef8258a4-432f-4c95-834c-880e21aae106  \n"
     ]
    }
   ],
   "source": [
    "df_with_brand = df[df['brand'].notna()]\n",
    "\n",
    "df_without_brand = df[df['brand'].isna()]\n",
    "\n",
    "#puchase with brand\n",
    "df_with_brand = df_with_brand[df_with_brand['event_type']=='purchase']\n",
    "print(df_with_brand.head())\n",
    "\n",
    "#purchase without brand\n",
    "df_without_brand = df_without_brand[df_without_brand['event_type']=='purchase']\n",
    "print(df_without_brand.head(5))"
   ]
  },
  {
   "cell_type": "code",
   "execution_count": 71,
   "metadata": {},
   "outputs": [
    {
     "name": "stdout",
     "output_type": "stream",
     "text": [
      "Percentage of purchases with brand: 92.54431699687174\n",
      "Percentage of purchases without brand: 7.455683003128259\n"
     ]
    }
   ],
   "source": [
    "#length of purchase events in total\n",
    "original_length = len(df[df['event_type']=='purchase'])\n",
    "\n",
    "#length of purchases with brand\n",
    "with_brand_length = df_with_brand.shape[0]\n",
    "print(\"Percentage of purchases with brand: \" + str((with_brand_length/original_length)*100))\n",
    "\n",
    "#length of purchases without brand\n",
    "without_brand_length = df_without_brand.shape[0]\n",
    "print(\"Percentage of purchases without brand: \" + str((without_brand_length/original_length)*100))"
   ]
  },
  {
   "cell_type": "markdown",
   "metadata": {},
   "source": [
    "### The hypothesis\n",
    "A hypothesis can be drawn based on the above results.\n",
    "\n",
    "For marketers, most of the marketing budget should be allotted to the advertisement of branded products.\n",
    "\n",
    "For inventors or entrepreneurs, always introduce the product with a brand name because products without a brand have a very low probability of getting bought."
   ]
  },
  {
   "cell_type": "code",
   "execution_count": 72,
   "metadata": {},
   "outputs": [
    {
     "name": "stdout",
     "output_type": "stream",
     "text": [
      "                      event_time event_type  product_id          category_id  \\\n",
      "408590 2019-10-01 09:04:14+00:00       view    18700029  2053013555380224399   \n",
      "430303 2019-10-01 09:21:38+00:00       view     1004249  2053013555631882655   \n",
      "472599 2019-10-01 09:58:03+00:00       view     1004659  2053013555631882655   \n",
      "260416 2019-10-01 07:01:40+00:00       view     1304106  2053013558920217191   \n",
      "394575 2019-10-01 08:53:03+00:00       view     5100503  2053013553375346967   \n",
      "\n",
      "                 category_code    brand   price    user_id  \\\n",
      "408590                     NaN      NaN  455.61  555526037   \n",
      "430303  electronics.smartphone    apple  738.39  551769870   \n",
      "472599  electronics.smartphone  samsung  787.09  555575510   \n",
      "260416      computers.notebook   lenovo  978.07  536093085   \n",
      "394575                     NaN   xiaomi   23.15  540569304   \n",
      "\n",
      "                                user_session  week_day  day  hour  \n",
      "408590  ea237f92-38c8-412a-91c6-b2ba9c4a0723         2    1     9  \n",
      "430303  b8cc3d0d-62af-4ac7-b330-bcfce095e2ab         2    1     9  \n",
      "472599  7c36ad50-6e41-4413-a44f-a12e20725101         2    1     9  \n",
      "260416  9b63069e-4042-4b64-84be-744918945b97         2    1     7  \n",
      "394575  4d99134e-7d00-4aba-afbb-fae5986dee6e         2    1     8  \n"
     ]
    }
   ],
   "source": [
    "#convert event-time to datetime column\n",
    "df['event_time'] = pd.to_datetime(df['event_time'])\n",
    "\n",
    "# Calculate and add relevant columns to track users activity\n",
    "df[\"week_day\"] = df['event_time'].map(lambda x: x.dayofweek + 1)\n",
    "df[\"day\"] = df['event_time'].map(lambda x: x.day)\n",
    "df[\"hour\"] = df['event_time'].map(lambda x: x.hour)\n",
    "print(df.head())"
   ]
  },
  {
   "cell_type": "code",
   "execution_count": 80,
   "metadata": {},
   "outputs": [
    {
     "data": {
      "text/plain": [
       "event_time       27984\n",
       "event_type           3\n",
       "product_id       23874\n",
       "category_id        526\n",
       "category_code      122\n",
       "brand             1633\n",
       "price             8957\n",
       "user_id          46047\n",
       "user_session     54303\n",
       "week_day             1\n",
       "day                  1\n",
       "hour                11\n",
       "dtype: int64"
      ]
     },
     "execution_count": 80,
     "metadata": {},
     "output_type": "execute_result"
    }
   ],
   "source": [
    "df.nunique()"
   ]
  },
  {
   "cell_type": "markdown",
   "metadata": {},
   "source": [
    "### Weekly Analysis\n",
    "In this part, we will review a weekly analysis of the number of views. This will reveal the day of the week on which the most or least number of views occur for the website."
   ]
  },
  {
   "cell_type": "code",
   "execution_count": 64,
   "metadata": {},
   "outputs": [],
   "source": [
    "import matplotlib.pyplot as plt"
   ]
  },
  {
   "cell_type": "code",
   "execution_count": 81,
   "metadata": {},
   "outputs": [
    {
     "data": {
      "image/png": "[encoded data removed]",
      "text/plain": [
       "<Figure size 1080x432 with 1 Axes>"
      ]
     },
     "metadata": {
      "needs_background": "light"
     },
     "output_type": "display_data"
    }
   ],
   "source": [
    "viewed = df[df['event_type'] == 'view']\n",
    "\n",
    "# Plot the number views against all week days in a line chart\n",
    "view_plot = viewed.groupby('event_type')['week_day'].value_counts().sort_index().plot(kind = 'line', figsize = (15,6))\n",
    "\n",
    "# Set properties of the plot\n",
    "view_plot.set_xlabel('Day of the week',fontsize = 15)\n",
    "view_plot.set_ylabel('Number of Views',fontsize = 15)\n",
    "view_plot.set_title('Number of views for different Week Days',fontsize = 15)\n",
    "# view_plot.set_xticklabels(('Mon','Tue','Wed','Thur','Fri', 'Sat','Sun'), rotation = 'horizontal', fontsize = 15)\n",
    "\n",
    "#plot the graph\n",
    "plt.show()"
   ]
  },
  {
   "cell_type": "code",
   "execution_count": 74,
   "metadata": {},
   "outputs": [
    {
     "name": "stdout",
     "output_type": "stream",
     "text": [
      "2    96471\n",
      "Name: week_day, dtype: int64\n"
     ]
    }
   ],
   "source": [
    "# get all view events of all users\n",
    "view_events = df[df['event_type']=='view']\n",
    "\n",
    "#plot of the number of views against all the days of the week\n",
    "# view_plot = view_events['week_day'].value_counts().sort_values().plot(kind='line',figsize=(15,6))\n",
    "print(view_events['week_day'].value_counts().sort_values())\n",
    "\n",
    "# # set properties of the plot\n",
    "# view_plot.set_xlabel('Days of the week')\n",
    "# view_plot.set_ylabel('Number of Views')\n",
    "# view_plot.set_title('Number of views per day of the week')\n",
    "# view_plot.get_xticklabels(('Mon','Tue','Wed','Thur','Fri', 'Sat','Sun'))\n",
    "\n",
    "# # show the plot\n",
    "# plt.show()"
   ]
  },
  {
   "cell_type": "code",
   "execution_count": 77,
   "metadata": {},
   "outputs": [
    {
     "data": {
      "image/png": "[encoded data removed]",
      "text/plain": [
       "<Figure size 1080x432 with 1 Axes>"
      ]
     },
     "metadata": {
      "needs_background": "light"
     },
     "output_type": "display_data"
    }
   ],
   "source": [
    "# Plot the number views against all 24 hours of the days in a bar chart\n",
    "view_plot = viewed.groupby('event_type')['hour'].value_counts().sort_index().plot(kind = 'bar', figsize = (15,6))\n",
    "\n",
    "# Set properties of the plot\n",
    "view_plot.set_xlabel('Hour',fontsize = 15)\n",
    "view_plot.set_ylabel('Number of Views',fontsize = 15)\n",
    "view_plot.set_title('Number of views for different Hours of Days',fontsize = 15)\n",
    "# view_plot.set_xticklabels(range(1,32), rotation='horizontal', fontsize=15)\n",
    "\n",
    "#plot the graph\n",
    "plt.show()"
   ]
  },
  {
   "cell_type": "markdown",
   "metadata": {},
   "source": [
    "The hypothesis#"
   ]
  },
  {
   "cell_type": "code",
   "execution_count": null,
   "metadata": {},
   "outputs": [],
   "source": []
  },
  {
   "cell_type": "code",
   "execution_count": 78,
   "metadata": {},
   "outputs": [
    {
     "name": "stdout",
     "output_type": "stream",
     "text": [
      "         len\n",
      "brand       \n",
      "samsung  455\n",
      "apple    391\n",
      "xiaomi   161\n",
      "huawei    74\n",
      "lucente   36\n",
      "...      ...\n",
      "huggies    1\n",
      "hygge      1\n",
      "hyperx     1\n",
      "hyundai    1\n",
      "zlatek     1\n",
      "\n",
      "[226 rows x 1 columns]\n"
     ]
    }
   ],
   "source": [
    "### Select all puchase events\n",
    "purchase_events_df = df[df['event_type']=='purchase']\n",
    "\n",
    "### Group data on brands\n",
    "brands_group = purchase_events_df.groupby('brand')\n",
    "\n",
    "### Number of products bought in each brand\n",
    "top_brands = purchase_events_df.groupby('brand')['user_session'].agg([len])\n",
    "top_brands.sort_values('len', ascending=False,inplace=True)\n",
    "\n",
    "print(top_brands)"
   ]
  },
  {
   "cell_type": "code",
   "execution_count": 52,
   "metadata": {},
   "outputs": [
    {
     "name": "stdout",
     "output_type": "stream",
     "text": [
      "           len\n",
      "brand         \n",
      "samsung    175\n",
      "apple      134\n",
      "xiaomi      64\n",
      "huawei      26\n",
      "artel       12\n",
      "...        ...\n",
      "moser        1\n",
      "moldabela    1\n",
      "brw          1\n",
      "michelin     1\n",
      "zeta         1\n",
      "\n",
      "[127 rows x 1 columns]\n"
     ]
    }
   ],
   "source": [
    "### Select all puchase events\n",
    "purchase_events_df = df[df['event_type']=='purchase']\n",
    "\n",
    "### Group data on brands\n",
    "brands_group = purchase_events_df.groupby('brand')\n",
    "\n",
    "### Number of products bought in each brand\n",
    "top_brands = brands_group.user_session.agg([len])\n",
    "top_brands.sort_values('len', ascending=False,inplace=True)\n",
    "\n",
    "print(top_brands)"
   ]
  },
  {
   "cell_type": "code",
   "execution_count": 53,
   "metadata": {},
   "outputs": [
    {
     "name": "stdout",
     "output_type": "stream",
     "text": [
      "         user_id                          user_session  \\\n",
      "162    543272936  8187d148-3c41-46d4-b0c0-9c08cd9dc564   \n",
      "308    551377651  3c80f0d6-e9ec-4181-8c5c-837a30be2d68   \n",
      "379    514591159  0e5dfc4b-2a55-43e6-8c05-97e1f07fbb56   \n",
      "442    555332717  1dea3ee2-2ded-42e8-8e7a-4e2ad6ae942f   \n",
      "574    524601178  2af9b570-0942-4dcd-8f25-4d84fba82553   \n",
      "...          ...                                   ...   \n",
      "49828  536172709  e7e63647-c873-4e9b-91b4-98ad1d24674d   \n",
      "49951  525290088  2dd67d39-fe6d-4d6d-a8ba-50c12682cb38   \n",
      "49953  537600119  3bb5760e-d072-4ddf-a67d-5162a8b63328   \n",
      "49987  515977249  ef6f52a1-5640-40ab-9108-00b58d717cd0   \n",
      "49995  523763083  e860b0b7-6371-4cdd-95f6-0a95b2bd02ae   \n",
      "\n",
      "                     event_time   price  \n",
      "162   2019-10-01 00:02:14+00:00  130.76  \n",
      "308   2019-10-01 00:04:37+00:00  642.69  \n",
      "379   2019-10-01 00:06:02+00:00   29.51  \n",
      "442   2019-10-01 00:07:07+00:00   54.42  \n",
      "574   2019-10-01 00:09:26+00:00  189.91  \n",
      "...                         ...     ...  \n",
      "49828 2019-10-01 03:32:46+00:00  253.31  \n",
      "49951 2019-10-01 03:32:55+00:00   62.52  \n",
      "49953 2019-10-01 03:32:55+00:00  127.67  \n",
      "49987 2019-10-01 03:32:58+00:00  217.77  \n",
      "49995 2019-10-01 03:32:59+00:00  154.38  \n",
      "\n",
      "[748 rows x 4 columns]\n"
     ]
    }
   ],
   "source": [
    "#Convert the type of event_time column to datetime\n",
    "df['event_time'] = pd.to_datetime(df.event_time)\n",
    "\n",
    "# Get rows with event_type equals purchase\n",
    "purchased = df[df['event_type'] == 'purchase']\n",
    "\n",
    "# Filter relevant data from Data Frame\n",
    "purchased = purchased[['user_id', 'user_session', 'event_time' ,'price']]\n",
    "\n",
    "print(purchased)"
   ]
  },
  {
   "cell_type": "code",
   "execution_count": 105,
   "metadata": {},
   "outputs": [
    {
     "name": "stdout",
     "output_type": "stream",
     "text": [
      "                  recency  frequency  monetary\n",
      "user_id                                       \n",
      "512373792 0 days 00:39:45          1    213.61\n",
      "512376264 0 days 00:35:49          1    136.40\n",
      "512384348 0 days 00:54:28          1    739.81\n",
      "512416959 0 days 00:53:01          1    810.81\n",
      "512448158 0 days 00:19:47          1     33.20\n"
     ]
    }
   ],
   "source": [
    "# Compute the R, F, and M values for each user\n",
    "rfm = purchased.groupby('user_id').agg({'event_time': lambda date: ((purchased['event_time'].max()) - date.max()),\n",
    "                                    'user_session': lambda num: num.count(),\n",
    "                                    'price': lambda price: price.sum(),\n",
    "                                    # 'event_time': lambda event_time: event_time.first(1),\n",
    "                                    # 'price': lambda price: price.first\n",
    "                                    })\n",
    "# rfm['first_price'] = purchased.groupby('user_id')['price'].first()\n",
    "# rfm['first_time'] = purchased.groupby('user_id')['event_time'].first()\n",
    "# print(rfm.head())\n",
    "\n",
    "\n",
    "# rfm['event_time'] = rfm['event_time'].apply(lambda days: int(str(days).split(' days')[0]) + 1)\n",
    "\n",
    "\n",
    "rfm.columns=['recency','frequency','monetary'\n",
    "# ,'first_price','first_time'\n",
    "]\n",
    "\n",
    "print(rfm.head())"
   ]
  },
  {
   "cell_type": "code",
   "execution_count": 106,
   "metadata": {},
   "outputs": [
    {
     "name": "stdout",
     "output_type": "stream",
     "text": [
      "{'frequency': {0.25: 1.0, 0.5: 1.0, 0.75: 1.0}, 'monetary': {0.25: 81.66499999999999, 0.5: 174.76, 0.75: 388.68}}\n"
     ]
    }
   ],
   "source": [
    "quantiles = rfm.quantile(q=[0.25,0.50,0.75])\n",
    "quantiles = quantiles.to_dict()\n",
    "print(quantiles)"
   ]
  },
  {
   "cell_type": "code",
   "execution_count": 107,
   "metadata": {},
   "outputs": [],
   "source": [
    "# Compute Ranks for Recency metric\n",
    "def Compute_R(val,metric,quantile):\n",
    "    if val <= quantile[metric][0.25]:\n",
    "        return 1\n",
    "    elif val <= quantile[metric][0.50]:\n",
    "        return 2\n",
    "    elif val <= quantile[metric][0.75]: \n",
    "        return 3\n",
    "    else:\n",
    "        return 4\n",
    "    \n",
    "# Compute Ranks for Frequency & Monetary metrics\n",
    "def Compute_FM(val,metric,quantile):\n",
    "    if val <= quantile[metric][0.25]:\n",
    "        return 4\n",
    "    elif val <= quantile[metric][0.50]:\n",
    "        return 3\n",
    "    elif val <= quantile[metric][0.75]: \n",
    "        return 2\n",
    "    else:\n",
    "        return 1"
   ]
  },
  {
   "cell_type": "code",
   "execution_count": 111,
   "metadata": {},
   "outputs": [
    {
     "name": "stdout",
     "output_type": "stream",
     "text": [
      "                  recency  frequency  monetary  F_rank  M_rank\n",
      "user_id                                                       \n",
      "512373792 0 days 00:39:45          1    213.61       4       2\n",
      "512376264 0 days 00:35:49          1    136.40       4       3\n",
      "512384348 0 days 00:54:28          1    739.81       4       1\n",
      "512416959 0 days 00:53:01          1    810.81       4       1\n",
      "512448158 0 days 00:19:47          1     33.20       4       4\n",
      "...                   ...        ...       ...     ...     ...\n",
      "555471684 0 days 00:01:45          1    380.85       4       2\n",
      "555471878 0 days 00:04:44          1     38.35       4       4\n",
      "555472120 0 days 00:03:57          1    464.08       4       1\n",
      "555472147 0 days 00:02:37          1    203.35       4       2\n",
      "555472338 0 days 00:02:02          1    377.14       4       2\n",
      "\n",
      "[616 rows x 5 columns]\n"
     ]
    }
   ],
   "source": [
    "# Compute new column with recency rank of that row\n",
    "# rfm['R_rank'] = rfm['recency'].apply(Compute_R, args=('recency',quantiles))\n",
    "\n",
    "# Compute new column with frequency rank of that row\n",
    "rfm['F_rank'] = rfm['frequency'].apply(Compute_FM, args=('frequency',quantiles))\n",
    "\n",
    "# Compute new column with monetary rank of that row\n",
    "rfm['M_rank'] = rfm['monetary'].apply(Compute_FM, args=('monetary',quantiles))\n",
    "\n",
    "print(rfm)"
   ]
  },
  {
   "cell_type": "code",
   "execution_count": 113,
   "metadata": {},
   "outputs": [
    {
     "name": "stdout",
     "output_type": "stream",
     "text": [
      "                  recency  frequency  monetary  F_rank  M_rank RFM_Score\n",
      "user_id                                                                 \n",
      "512373792 0 days 00:39:45          1    213.61       4       2        42\n",
      "512376264 0 days 00:35:49          1    136.40       4       3        43\n",
      "512384348 0 days 00:54:28          1    739.81       4       1        41\n",
      "512416959 0 days 00:53:01          1    810.81       4       1        41\n",
      "512448158 0 days 00:19:47          1     33.20       4       4        44\n"
     ]
    }
   ],
   "source": [
    "# Convert RFM values to type string\n",
    "# R = rfm.R_rank.astype(str)\n",
    "F = rfm.F_rank.astype(str)\n",
    "M = rfm.M_rank.astype(str)\n",
    "\n",
    "# Compute new colum with combined RFM values\n",
    "rfm['RFM_Score'] = F + M\n",
    "\n",
    "print(rfm.head())"
   ]
  },
  {
   "cell_type": "code",
   "execution_count": 59,
   "metadata": {},
   "outputs": [
    {
     "data": {
      "text/html": [
       "<div>\n",
       "<style scoped>\n",
       "    .dataframe tbody tr th:only-of-type {\n",
       "        vertical-align: middle;\n",
       "    }\n",
       "\n",
       "    .dataframe tbody tr th {\n",
       "        vertical-align: top;\n",
       "    }\n",
       "\n",
       "    .dataframe thead th {\n",
       "        text-align: right;\n",
       "    }\n",
       "</style>\n",
       "<table border=\"1\" class=\"dataframe\">\n",
       "  <thead>\n",
       "    <tr style=\"text-align: right;\">\n",
       "      <th></th>\n",
       "      <th>recency</th>\n",
       "      <th>frequency</th>\n",
       "      <th>monetary</th>\n",
       "      <th>R_rank</th>\n",
       "      <th>F_rank</th>\n",
       "      <th>M_rank</th>\n",
       "    </tr>\n",
       "  </thead>\n",
       "  <tbody>\n",
       "    <tr>\n",
       "      <th>count</th>\n",
       "      <td>616.0</td>\n",
       "      <td>616.000000</td>\n",
       "      <td>616.000000</td>\n",
       "      <td>616.0</td>\n",
       "      <td>616.000000</td>\n",
       "      <td>616.000000</td>\n",
       "    </tr>\n",
       "    <tr>\n",
       "      <th>mean</th>\n",
       "      <td>1.0</td>\n",
       "      <td>1.214286</td>\n",
       "      <td>347.122045</td>\n",
       "      <td>1.0</td>\n",
       "      <td>3.620130</td>\n",
       "      <td>2.504870</td>\n",
       "    </tr>\n",
       "    <tr>\n",
       "      <th>std</th>\n",
       "      <td>0.0</td>\n",
       "      <td>1.137473</td>\n",
       "      <td>640.300060</td>\n",
       "      <td>0.0</td>\n",
       "      <td>0.998463</td>\n",
       "      <td>1.117478</td>\n",
       "    </tr>\n",
       "    <tr>\n",
       "      <th>min</th>\n",
       "      <td>1.0</td>\n",
       "      <td>1.000000</td>\n",
       "      <td>4.250000</td>\n",
       "      <td>1.0</td>\n",
       "      <td>1.000000</td>\n",
       "      <td>1.000000</td>\n",
       "    </tr>\n",
       "    <tr>\n",
       "      <th>25%</th>\n",
       "      <td>1.0</td>\n",
       "      <td>1.000000</td>\n",
       "      <td>81.665000</td>\n",
       "      <td>1.0</td>\n",
       "      <td>4.000000</td>\n",
       "      <td>2.000000</td>\n",
       "    </tr>\n",
       "    <tr>\n",
       "      <th>50%</th>\n",
       "      <td>1.0</td>\n",
       "      <td>1.000000</td>\n",
       "      <td>174.760000</td>\n",
       "      <td>1.0</td>\n",
       "      <td>4.000000</td>\n",
       "      <td>3.000000</td>\n",
       "    </tr>\n",
       "    <tr>\n",
       "      <th>75%</th>\n",
       "      <td>1.0</td>\n",
       "      <td>1.000000</td>\n",
       "      <td>388.680000</td>\n",
       "      <td>1.0</td>\n",
       "      <td>4.000000</td>\n",
       "      <td>3.250000</td>\n",
       "    </tr>\n",
       "    <tr>\n",
       "      <th>max</th>\n",
       "      <td>1.0</td>\n",
       "      <td>26.000000</td>\n",
       "      <td>12066.530000</td>\n",
       "      <td>1.0</td>\n",
       "      <td>4.000000</td>\n",
       "      <td>4.000000</td>\n",
       "    </tr>\n",
       "  </tbody>\n",
       "</table>\n",
       "</div>"
      ],
      "text/plain": [
       "       recency   frequency      monetary  R_rank      F_rank      M_rank\n",
       "count    616.0  616.000000    616.000000   616.0  616.000000  616.000000\n",
       "mean       1.0    1.214286    347.122045     1.0    3.620130    2.504870\n",
       "std        0.0    1.137473    640.300060     0.0    0.998463    1.117478\n",
       "min        1.0    1.000000      4.250000     1.0    1.000000    1.000000\n",
       "25%        1.0    1.000000     81.665000     1.0    4.000000    2.000000\n",
       "50%        1.0    1.000000    174.760000     1.0    4.000000    3.000000\n",
       "75%        1.0    1.000000    388.680000     1.0    4.000000    3.250000\n",
       "max        1.0   26.000000  12066.530000     1.0    4.000000    4.000000"
      ]
     },
     "execution_count": 59,
     "metadata": {},
     "output_type": "execute_result"
    }
   ],
   "source": [
    "rfm.describe()"
   ]
  },
  {
   "cell_type": "code",
   "execution_count": 114,
   "metadata": {},
   "outputs": [],
   "source": [
    "rfm.to_csv('data.csv')"
   ]
  }
 ],
 "metadata": {
  "interpreter": {
   "hash": "f3bf6031e464bf1b4b3b2af097e46d681219838e1e464d916beb03609dde4fdf"
  },
  "kernelspec": {
   "display_name": "Python 3.8.8 ('base')",
   "language": "python",
   "name": "python3"
  },
  "language_info": {
   "codemirror_mode": {
    "name": "ipython",
    "version": 3
   },
   "file_extension": ".py",
   "mimetype": "text/x-python",
   "name": "python",
   "nbconvert_exporter": "python",
   "pygments_lexer": "ipython3",
   "version": "3.8.8"
  },
  "orig_nbformat": 4
 },
 "nbformat": 4,
 "nbformat_minor": 2
}
